{
  "nbformat": 4,
  "nbformat_minor": 0,
  "metadata": {
    "colab": {
      "provenance": [],
      "authorship_tag": "ABX9TyOncTqr6Hm4ImzY3a13gC8S",
      "include_colab_link": true
    },
    "kernelspec": {
      "name": "python3",
      "display_name": "Python 3"
    },
    "language_info": {
      "name": "python"
    }
  },
  "cells": [
    {
      "cell_type": "markdown",
      "metadata": {
        "id": "view-in-github",
        "colab_type": "text"
      },
      "source": [
        "<a href=\"https://colab.research.google.com/github/ReiVedd/Python-lessons/blob/main/Lista.ipynb\" target=\"_parent\"><img src=\"https://colab.research.google.com/assets/colab-badge.svg\" alt=\"Open In Colab\"/></a>"
      ]
    },
    {
      "cell_type": "code",
      "metadata": {
        "colab": {
          "base_uri": "https://localhost:8080/"
        },
        "id": "13ed976e",
        "outputId": "30da1c05-96d0-4ac4-cf9f-e74894670cc1"
      },
      "source": [
        "nomes = []\n",
        "idades = []\n",
        "\n",
        "for i in range(5):\n",
        "    nome = input(f\"Digite o nome do aluno {i+1}: \")\n",
        "    idade = int(input(f\"Digite a idade do aluno {i+1}: \"))\n",
        "    nomes.append(nome)\n",
        "    idades.append(idade)\n",
        "\n",
        "iMaisVelho = idades.index(max(idades))\n",
        "nomeVelho = nomes[iMaisVelho]\n",
        "\n",
        "print(f\"O aluno mais velho é: {nomeVelho}\")"
      ],
      "execution_count": null,
      "outputs": [
        {
          "output_type": "stream",
          "name": "stdout",
          "text": [
            "Digite o nome do aluno 1: roger\n",
            "Digite a idade do aluno 1: 12\n",
            "Digite o nome do aluno 2: felipe\n",
            "Digite a idade do aluno 2: 34\n",
            "Digite o nome do aluno 3: bruno\n",
            "Digite a idade do aluno 3: 45\n",
            "Digite o nome do aluno 4: geralddo\n",
            "Digite a idade do aluno 4: 67\n",
            "Digite o nome do aluno 5: vitor\n",
            "Digite a idade do aluno 5: 2\n",
            "\n",
            "O aluno mais velho é: geralddo\n"
          ]
        }
      ]
    }
  ]
}